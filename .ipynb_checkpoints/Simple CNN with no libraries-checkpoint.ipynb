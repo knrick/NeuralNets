{
 "cells": [
  {
   "cell_type": "code",
   "execution_count": 2,
   "metadata": {},
   "outputs": [],
   "source": [
    "import numpy as np # except for numpy"
   ]
  },
  {
   "cell_type": "code",
   "execution_count": 3,
   "metadata": {},
   "outputs": [],
   "source": [
    "# sigmoid function\n",
    "def sigmoid(x, deriv=False):\n",
    "    if deriv == False:\n",
    "        return 1 / (1 + np.exp(-x))\n",
    "    return x * (1 - x)"
   ]
  },
  {
   "cell_type": "markdown",
   "metadata": {},
   "source": [
    "define X (input data) and y (output data)"
   ]
  },
  {
   "cell_type": "code",
   "execution_count": 4,
   "metadata": {},
   "outputs": [],
   "source": [
    "np.random.seed(1)\n",
    "# abstract 1080 RGB 64x64 images\n",
    "X = np.random.randint(256, size=(1080, 64, 64, 3))\n",
    "# each one representing one of 5 abstract categories\n",
    "y = np.random.randint(5, size=(1080, 1))"
   ]
  },
  {
   "cell_type": "code",
   "execution_count": null,
   "metadata": {},
   "outputs": [],
   "source": [
    "def model(X, y):\n",
    "    '''\n",
    "    create weights\n",
    "    GradientDescent:\n",
    "        feedforward\n",
    "        backprop\n",
    "        update the weights\n",
    "    '''\n",
    "    np.random.seed(1)\n",
    "    w1 = 2 * np.random.random((4, 4, 5, 5)) - 1\n",
    "    w2 = 2 * np.random.random((2, 2, 5, 3)) - 1\n",
    "    w3 = 2 * np.random.random((1, 2)) - 1\n",
    "    \n",
    "    # (Input) -> (Conv2D+ReLU -> MaxPool) -> (Conv2D+ReLU -> MaxPool) -> (flatten -> FC)\n",
    "    \n",
    "    Z1 = conv_forward(X, w1, stride=2, zero_padding=3)\n",
    "    Z1 = max_pool_forward(Z1, f=4, stride=2)\n",
    "    Z2 = conv_forward(Z1, w2, stride=2)\n",
    "    Z2 = max_pool_forward(Z2)\n",
    "    y_ = FlattenFC(Z2)\n",
    "    \n",
    "    Z1__error, Z2__error, y__error = backprop(Z1, Z2, y_)\n",
    "    \n",
    "    \n",
    "    "
   ]
  },
  {
   "cell_type": "code",
   "execution_count": 19,
   "metadata": {},
   "outputs": [],
   "source": [
    "def conv_forward(A_prev, W, stride=1, zero_padding=0):\n",
    "    \n",
    "    m, A_prev_H, A_prev_W, _ = A_prev.shape\n",
    "    W_H, W_W, _, Z_C = W.shape\n",
    "    \n",
    "    Z_H = int((A_prev_H - W_H + 2*zero_padding) / stride) + 1\n",
    "    Z_W = int((A_prev_W - W_W + 2*zero_padding) / stride) + 1\n",
    "    \n",
    "    Z = np.zeros([m, Z_H, Z_W, Z_C])    \n",
    "    print(Z.shape)\n",
    "    A_prev_pad = np.pad(A_prev, ((0, 0), (zero_padding, zero_padding), (zero_padding, zero_padding), (0, 0)), mode='constant', constant_values = 0) # (m, A_prev_H + 2 * pad, A_prev_W + 2 * pad, A_prev_C)\n",
    "    \n",
    "    for i in range(m): # number of samples\n",
    "        for h in range(Z_H): # result's height\n",
    "            for w in range(Z_W): # result's width\n",
    "                for c in range(Z_C): # result's number of channels\n",
    "                    Z[i, h, w, c] = (A_prev_pad[i, h * stride : h * stride + W_H, w * stride : w * stride + W_W] * W[:, :, :, c]).sum()\n",
    "                    \n",
    "    return Z * (Z > 0)\n",
    "                    "
   ]
  },
  {
   "cell_type": "code",
   "execution_count": 17,
   "metadata": {},
   "outputs": [
    {
     "data": {
      "text/plain": [
       "(10, 16, 16, 5)"
      ]
     },
     "execution_count": 17,
     "metadata": {},
     "output_type": "execute_result"
    }
   ],
   "source": [
    "Z1.shape"
   ]
  },
  {
   "cell_type": "code",
   "execution_count": 21,
   "metadata": {},
   "outputs": [
    {
     "name": "stdout",
     "output_type": "stream",
     "text": [
      "(10, 34, 34, 5)\n",
      "(10, 8, 8, 10)\n"
     ]
    },
    {
     "data": {
      "text/plain": [
       "(10, 7, 7, 10)"
      ]
     },
     "execution_count": 21,
     "metadata": {},
     "output_type": "execute_result"
    }
   ],
   "source": [
    "np.random.seed(1)\n",
    "X = np.random.randint(256, size=(10, 64, 64, 3))\n",
    "w1 = 2 * np.random.random((4, 4, 3, 5)) - 1\n",
    "w2 = 2 * np.random.random((2, 2, 5, 10)) - 1\n",
    "Z1 = conv_forward(X, w1, stride=2, zero_padding=3)\n",
    "Z1 = max_pool_forward(Z1, f=4, stride=2)\n",
    "Z2 = conv_forward(Z1, w2, stride=2)\n",
    "Z2 = max_pool_forward(Z2)\n",
    "Z2.shape"
   ]
  },
  {
   "cell_type": "code",
   "execution_count": 5,
   "metadata": {},
   "outputs": [],
   "source": [
    "def conv_backward(dZ, A_prev, W, stride, zero_padding):\n",
    "    \n",
    "    m, A_prev_H, A_prev_W, A_prev_C = A_prev.shape\n",
    "    W_H, W_W, _, _ = W.shape\n",
    "    m, A_H, A_W, A_C = dZ.shape\n",
    "    \n",
    "    dA_prev = np.zeros([m, A_prev_H, A_prev_W, A_prev_C])\n",
    "    dW = np.zeros([W_H, W_W, A_prev_C, A_C])\n",
    "    A_prev_pad = np.pad(A_prev, ((0, 0), (zero_padding, zero_padding), (zero_padding, zero_padding), (0, 0)), mode='constant', constant_values = 0) # (m, A_prev_H + 2 * pad, A_prev_W + 2 * pad, A_prev_C)\n",
    "    dA_prev_pad = np.zeros([m, A_prev_H + 2 * zero_padding, A_prev_W + 2 * zero_padding, A_prev_C])\n",
    "    \n",
    "    for i in range(m): # number of samples\n",
    "        for h in range(A_H): # result's height\n",
    "            for w in range(A_W): # result's width\n",
    "                for c in range(A_C): # result's number of channels\n",
    "                    dA_prev_pad[i, h * stride : h * stride + W_H, w * stride : w * stride + W_W] += (W[:, :, :, c] * dZ[i, h, w, c]).sum()\n",
    "                    dW[:,:,:,c] += (A_prev_pad[i, h * stride : h * stride + f_H, w * stride : w * stride + f_W] * dZ[i, h, w, c]).sum()\n",
    "        dA_prev[i] = dA_prev_pad[i, zero_padding:-zero_padding, zero_padding:-zero_padding]\n",
    "        \n",
    "    return dA_prev, dW"
   ]
  },
  {
   "cell_type": "code",
   "execution_count": 12,
   "metadata": {},
   "outputs": [],
   "source": [
    "def max_pool_forward(A_prev, f=2, stride=1):\n",
    "    \n",
    "    m, A_prev_H, A_prev_W, Z_C = A_prev.shape\n",
    "    \n",
    "    Z_H = int((A_prev_H - f) / stride) + 1\n",
    "    Z_W = int((A_prev_W - f) / stride) + 1\n",
    "    \n",
    "    Z = np.zeros([m, Z_H, Z_W, Z_C])    \n",
    "    \n",
    "    for i in range(m): # number of samples\n",
    "        for h in range(Z_H): # result's height\n",
    "            for w in range(Z_W): # result's width\n",
    "                for c in range(Z_C): # result's number of channels\n",
    "                    Z[i, h, w, c] = A_prev[i, h * stride : h * stride + f, w * stride : w * stride + f, c].max()\n",
    "    \n",
    "    return Z"
   ]
  },
  {
   "cell_type": "code",
   "execution_count": 13,
   "metadata": {},
   "outputs": [],
   "source": [
    "def max_pool_backward(dA, A_prev, f, stride):\n",
    "    \n",
    "    m, A_prev_H, A_prev_W, A_prev_C = A_prev.shape\n",
    "    m, A_H, A_W, A_C = A_prev.shape\n",
    "    \n",
    "    Z = np.zeros([m, A_H, A_W, A_C])    \n",
    "    \n",
    "    for i in range(m): # number of samples\n",
    "        for h in range(A_H): # result's height\n",
    "            for w in range(A_W): # result's width\n",
    "                for c in range(A_C): # result's number of channels\n",
    "                    mask = A_prev[i, h * stride : h * stride + f, w * stride : w * stride + f, c] == A_prev[i, h * stride : h * stride + f, w * stride : w * stride + f, c].max()\n",
    "                    dA_prev[i, h * stride : h * stride + f, w * stride : w * stride + f, c] += A_prev[i, h * stride : h * stride + f, w * stride : w * stride + f, c] * mask\n",
    "    \n",
    "    return dA_prev"
   ]
  },
  {
   "cell_type": "code",
   "execution_count": 9,
   "metadata": {},
   "outputs": [],
   "source": [
    "def FlattenFC_forward(A_prev, W):\n",
    "    flatX = np.zeros((A_prev.shape[0],np.prod(A_prev.shape[1:])))\n",
    "    for i in range(A_prev.shape[0]):\n",
    "        A_prev_flat[i] = A_prev[i].flatten()\n",
    "    Z = np.dot(A_prev_flat, W)\n",
    "    return Z"
   ]
  },
  {
   "cell_type": "code",
   "execution_count": 10,
   "metadata": {},
   "outputs": [],
   "source": [
    "def softmax(A_prev):\n",
    "    #this function will calculate the probabilities of each\n",
    "    #target class over all possible target classes. \n",
    "    maxes = np.amax(A_prev, axis=1)\n",
    "    maxes = maxes.reshape(maxes.shape[0], 1)\n",
    "    e = np.exp(A_prev - maxes)\n",
    "    dist = e / np.sum(e, axis=1, keepdims=True)\n",
    "    return dist.argmax(axis=-1)"
   ]
  }
 ],
 "metadata": {
  "kernelspec": {
   "display_name": "Python 3",
   "language": "python",
   "name": "python3"
  },
  "language_info": {
   "codemirror_mode": {
    "name": "ipython",
    "version": 3
   },
   "file_extension": ".py",
   "mimetype": "text/x-python",
   "name": "python",
   "nbconvert_exporter": "python",
   "pygments_lexer": "ipython3",
   "version": "3.6.4"
  }
 },
 "nbformat": 4,
 "nbformat_minor": 2
}
