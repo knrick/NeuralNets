{
 "cells": [
  {
   "cell_type": "code",
   "execution_count": 1,
   "metadata": {},
   "outputs": [],
   "source": [
    "import numpy as np # except for numpy"
   ]
  },
  {
   "cell_type": "markdown",
   "metadata": {},
   "source": [
    "define sigmoid functions"
   ]
  },
  {
   "cell_type": "code",
   "execution_count": 2,
   "metadata": {},
   "outputs": [],
   "source": [
    "# sigmoid function\n",
    "def sigmoid(x):\n",
    "    return x * (1 - x)\n",
    "\n",
    "# gradient function\n",
    "def sigmoid_deriv(x):\n",
    "    return 1 / (1 + np.exp(-x))"
   ]
  },
  {
   "cell_type": "markdown",
   "metadata": {},
   "source": [
    "define X (input data) and y (output data)"
   ]
  },
  {
   "cell_type": "code",
   "execution_count": 3,
   "metadata": {},
   "outputs": [],
   "source": [
    "X = np.array([[0, 0, 1],\n",
    "              [0, 1, 1],\n",
    "              [1, 0, 1],\n",
    "              [1, 1, 1]]) # (4, 3)\n",
    "\n",
    "y = np.array([[0, 0, 1, 1]]).T # (4, 1)"
   ]
  },
  {
   "cell_type": "markdown",
   "metadata": {},
   "source": [
    "Create the weights. The model will be 3(input) - 2(hidden layer) - 1(output). There will be no biases."
   ]
  },
  {
   "cell_type": "code",
   "execution_count": 4,
   "metadata": {},
   "outputs": [],
   "source": [
    "np.random.seed(1)\n",
    "w0 = 2 * np.random.random((3, 2)) - 1 # (3, 2)\n",
    "w1 = 2 * np.random.random((2, 1)) - 1 # (2, 1)"
   ]
  },
  {
   "cell_type": "code",
   "execution_count": 5,
   "metadata": {},
   "outputs": [
    {
     "name": "stdout",
     "output_type": "stream",
     "text": [
      "Error: 0.5014054050677383\n",
      "Error: 0.0054592641689866364\n",
      "Error: 0.003798845743950829\n",
      "Error: 0.0030783975150985633\n",
      "Error: 0.002653411953747656\n",
      "Error: 0.0023653494513109987\n",
      "Error: 0.002153751285912957\n",
      "Error: 0.0019899188462638565\n",
      "Error: 0.001858259714231275\n",
      "Error: 0.0017494807695634597\n"
     ]
    }
   ],
   "source": [
    "np.random.seed(1)\n",
    "for i in range(100000):\n",
    "    \n",
    "    # feedforward\n",
    "    Z1 = sigmoid(X.dot(w0)) # (4, 2)\n",
    "    y_ = sigmoid(Z1.dot(w1)) # (4, 1)\n",
    "    \n",
    "    # backprop\n",
    "    y__error = y - y_ # (4, 1)\n",
    "    # show the error to see the progress\n",
    "    if i % 10000 == 0:\n",
    "        print('Error:', abs(y__error).mean())\n",
    "    y__delta = y__error * sigmoid_deriv(y_) # (4, 1)\n",
    "    Z1_error = y__delta.dot(w1.T) # (4, 2)\n",
    "    Z1_delta = Z1_error * sigmoid_deriv(Z1) # (4, 2)\n",
    "    \n",
    "    # update the weights\n",
    "    w0 += X.T.dot(Z1_delta) # (3, 2)\n",
    "    w1 += Z1.T.dot(y__delta) # (2, 1)"
   ]
  }
 ],
 "metadata": {
  "kernelspec": {
   "display_name": "Python 3",
   "language": "python",
   "name": "python3"
  },
  "language_info": {
   "codemirror_mode": {
    "name": "ipython",
    "version": 3
   },
   "file_extension": ".py",
   "mimetype": "text/x-python",
   "name": "python",
   "nbconvert_exporter": "python",
   "pygments_lexer": "ipython3",
   "version": "3.6.4"
  }
 },
 "nbformat": 4,
 "nbformat_minor": 2
}
